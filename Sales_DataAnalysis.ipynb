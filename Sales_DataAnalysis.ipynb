{
 "cells": [
  {
   "cell_type": "markdown",
   "id": "a1851c03-e72f-4f3f-887d-b2ee88f5afb5",
   "metadata": {},
   "source": []
  },
  {
   "cell_type": "markdown",
   "id": "8f98a037-a476-4e38-8b85-1c6471e2f3c5",
   "metadata": {},
   "source": [
    "# Load the CSV file"
   ]
  },
  {
   "cell_type": "code",
   "execution_count": 3,
   "id": "106619e7-461b-4529-b099-ec861f2938e2",
   "metadata": {},
   "outputs": [],
   "source": [
    "import matplotlib.pyplot as plt\n",
    "import pandas as pd"
   ]
  },
  {
   "cell_type": "markdown",
   "id": "235fd3ff-6de3-4e81-a735-5f158ea98785",
   "metadata": {},
   "source": [
    "# import dataset csv fill"
   ]
  },
  {
   "cell_type": "code",
   "execution_count": 5,
   "id": "f7494266-ba27-4e85-be80-df77f9f3da02",
   "metadata": {},
   "outputs": [
    {
     "name": "stdout",
     "output_type": "stream",
     "text": [
      "Data Load Succesfull ! \n"
     ]
    }
   ],
   "source": [
    "df=pd.read_csv(\"sales_data.csv\")\n",
    "print(\"Data Load Succesfull ! \")"
   ]
  },
  {
   "cell_type": "markdown",
   "id": "ba35c797-70c9-454f-b5e1-c3efc3191b91",
   "metadata": {},
   "source": [
    "# Display the first 10 rows (head)"
   ]
  },
  {
   "cell_type": "code",
   "execution_count": 6,
   "id": "ab9816e1-5888-4e90-9881-d78bcef8683d",
   "metadata": {},
   "outputs": [
    {
     "data": {
      "text/html": [
       "<div>\n",
       "<style scoped>\n",
       "    .dataframe tbody tr th:only-of-type {\n",
       "        vertical-align: middle;\n",
       "    }\n",
       "\n",
       "    .dataframe tbody tr th {\n",
       "        vertical-align: top;\n",
       "    }\n",
       "\n",
       "    .dataframe thead th {\n",
       "        text-align: right;\n",
       "    }\n",
       "</style>\n",
       "<table border=\"1\" class=\"dataframe\">\n",
       "  <thead>\n",
       "    <tr style=\"text-align: right;\">\n",
       "      <th></th>\n",
       "      <th>Date</th>\n",
       "      <th>Product</th>\n",
       "      <th>Region</th>\n",
       "      <th>Quantity</th>\n",
       "      <th>Unit_Price</th>\n",
       "      <th>Total_Revenue</th>\n",
       "    </tr>\n",
       "  </thead>\n",
       "  <tbody>\n",
       "    <tr>\n",
       "      <th>0</th>\n",
       "      <td>2024-01-05</td>\n",
       "      <td>Laptop</td>\n",
       "      <td>North</td>\n",
       "      <td>5</td>\n",
       "      <td>50000</td>\n",
       "      <td>250000</td>\n",
       "    </tr>\n",
       "    <tr>\n",
       "      <th>1</th>\n",
       "      <td>2024-01-07</td>\n",
       "      <td>Tablet</td>\n",
       "      <td>East</td>\n",
       "      <td>10</td>\n",
       "      <td>15000</td>\n",
       "      <td>150000</td>\n",
       "    </tr>\n",
       "    <tr>\n",
       "      <th>2</th>\n",
       "      <td>2024-01-10</td>\n",
       "      <td>Mobile</td>\n",
       "      <td>South</td>\n",
       "      <td>20</td>\n",
       "      <td>20000</td>\n",
       "      <td>400000</td>\n",
       "    </tr>\n",
       "    <tr>\n",
       "      <th>3</th>\n",
       "      <td>2024-02-02</td>\n",
       "      <td>Laptop</td>\n",
       "      <td>West</td>\n",
       "      <td>3</td>\n",
       "      <td>52000</td>\n",
       "      <td>156000</td>\n",
       "    </tr>\n",
       "    <tr>\n",
       "      <th>4</th>\n",
       "      <td>2024-02-15</td>\n",
       "      <td>Tablet</td>\n",
       "      <td>North</td>\n",
       "      <td>8</td>\n",
       "      <td>14500</td>\n",
       "      <td>116000</td>\n",
       "    </tr>\n",
       "    <tr>\n",
       "      <th>5</th>\n",
       "      <td>2024-03-01</td>\n",
       "      <td>Mobile</td>\n",
       "      <td>East</td>\n",
       "      <td>15</td>\n",
       "      <td>19500</td>\n",
       "      <td>292500</td>\n",
       "    </tr>\n",
       "    <tr>\n",
       "      <th>6</th>\n",
       "      <td>2024-03-10</td>\n",
       "      <td>Laptop</td>\n",
       "      <td>South</td>\n",
       "      <td>4</td>\n",
       "      <td>51000</td>\n",
       "      <td>204000</td>\n",
       "    </tr>\n",
       "    <tr>\n",
       "      <th>7</th>\n",
       "      <td>2024-03-15</td>\n",
       "      <td>Mobile</td>\n",
       "      <td>West</td>\n",
       "      <td>10</td>\n",
       "      <td>19800</td>\n",
       "      <td>198000</td>\n",
       "    </tr>\n",
       "    <tr>\n",
       "      <th>8</th>\n",
       "      <td>2024-04-01</td>\n",
       "      <td>Tablet</td>\n",
       "      <td>North</td>\n",
       "      <td>12</td>\n",
       "      <td>14000</td>\n",
       "      <td>168000</td>\n",
       "    </tr>\n",
       "    <tr>\n",
       "      <th>9</th>\n",
       "      <td>2024-04-08</td>\n",
       "      <td>Laptop</td>\n",
       "      <td>East</td>\n",
       "      <td>6</td>\n",
       "      <td>50500</td>\n",
       "      <td>303000</td>\n",
       "    </tr>\n",
       "  </tbody>\n",
       "</table>\n",
       "</div>"
      ],
      "text/plain": [
       "         Date Product Region  Quantity  Unit_Price  Total_Revenue\n",
       "0  2024-01-05  Laptop  North         5       50000         250000\n",
       "1  2024-01-07  Tablet   East        10       15000         150000\n",
       "2  2024-01-10  Mobile  South        20       20000         400000\n",
       "3  2024-02-02  Laptop   West         3       52000         156000\n",
       "4  2024-02-15  Tablet  North         8       14500         116000\n",
       "5  2024-03-01  Mobile   East        15       19500         292500\n",
       "6  2024-03-10  Laptop  South         4       51000         204000\n",
       "7  2024-03-15  Mobile   West        10       19800         198000\n",
       "8  2024-04-01  Tablet  North        12       14000         168000\n",
       "9  2024-04-08  Laptop   East         6       50500         303000"
      ]
     },
     "execution_count": 6,
     "metadata": {},
     "output_type": "execute_result"
    }
   ],
   "source": [
    "df.head(10)"
   ]
  },
  {
   "cell_type": "markdown",
   "id": "1e9fca9d-3fe5-4de3-897a-c5c55b13c954",
   "metadata": {},
   "source": [
    "# Find the average, maximum, and minimum of Total_Revenue"
   ]
  },
  {
   "cell_type": "code",
   "execution_count": 7,
   "id": "a63414be-2bd5-4b98-9969-ca99829d5752",
   "metadata": {},
   "outputs": [
    {
     "name": "stdout",
     "output_type": "stream",
     "text": [
      "Average Revenue: 223750.0\n",
      "Max Revenue: 400000\n",
      "Min Revenue: 116000\n"
     ]
    }
   ],
   "source": [
    "print(\"Average Revenue:\", df['Total_Revenue'].mean())\n",
    "print(\"Max Revenue:\", df['Total_Revenue'].max())\n",
    "print(\"Min Revenue:\", df['Total_Revenue'].min())"
   ]
  },
  {
   "cell_type": "markdown",
   "id": "c3aa89a4-8083-4859-9ff0-9ca82b553d98",
   "metadata": {},
   "source": [
    "# Identify which product sold the most"
   ]
  },
  {
   "cell_type": "code",
   "execution_count": 8,
   "id": "d1a881b2-1f23-441b-af89-689956010cc0",
   "metadata": {},
   "outputs": [
    {
     "name": "stdout",
     "output_type": "stream",
     "text": [
      "Product wise total sales:\n",
      " Product\n",
      "Laptop    18\n",
      "Mobile    45\n",
      "Tablet    30\n",
      "Name: Quantity, dtype: int64\n",
      "Most sold product: Mobile\n"
     ]
    }
   ],
   "source": [
    "product_sales = df.groupby('Product')['Quantity'].sum()\n",
    "print(\"Product wise total sales:\\n\", product_sales)\n",
    "print(\"Most sold product:\", product_sales.idxmax())"
   ]
  },
  {
   "cell_type": "markdown",
   "id": "e14e3b29-e34a-47de-8a7d-bb71bddb1e99",
   "metadata": {},
   "source": [
    "# Calculate total sales by Region"
   ]
  },
  {
   "cell_type": "code",
   "execution_count": 10,
   "id": "d6b48424-51af-43f7-99c1-d7fe4645d34b",
   "metadata": {},
   "outputs": [
    {
     "name": "stdout",
     "output_type": "stream",
     "text": [
      "Region wise total revenue:\n",
      " Region\n",
      "East     745500\n",
      "North    534000\n",
      "South    604000\n",
      "West     354000\n",
      "Name: Total_Revenue, dtype: int64\n"
     ]
    }
   ],
   "source": [
    "region_sales = df.groupby('Region')['Total_Revenue'].sum()\n",
    "print(\"Region wise total revenue:\\n\", region_sales)"
   ]
  },
  {
   "cell_type": "markdown",
   "id": "6bdffae1-6b2b-49cf-a606-c954381e5b3d",
   "metadata": {},
   "source": [
    "# Create a time series – Monthly sales"
   ]
  },
  {
   "cell_type": "code",
   "execution_count": 11,
   "id": "c465934d-7a22-4a5f-9e22-1b98e0ac67cc",
   "metadata": {},
   "outputs": [
    {
     "name": "stdout",
     "output_type": "stream",
     "text": [
      "Monthly Sales:\n",
      "                        Product          Region  Quantity  Unit_Price  \\\n",
      "Date                                                                   \n",
      "2024-01-31  LaptopTabletMobile  NorthEastSouth        35       85000   \n",
      "2024-02-29        LaptopTablet       WestNorth        11       66500   \n",
      "2024-03-31  MobileLaptopMobile   EastSouthWest        29       90300   \n",
      "2024-04-30        TabletLaptop       NorthEast        18       64500   \n",
      "\n",
      "            Total_Revenue  \n",
      "Date                       \n",
      "2024-01-31         800000  \n",
      "2024-02-29         272000  \n",
      "2024-03-31         694500  \n",
      "2024-04-30         471000  \n"
     ]
    },
    {
     "name": "stderr",
     "output_type": "stream",
     "text": [
      "C:\\Users\\das92\\AppData\\Local\\Temp\\ipykernel_19492\\109201918.py:3: FutureWarning: 'M' is deprecated and will be removed in a future version, please use 'ME' instead.\n",
      "  monthly_sales = df.resample('M').sum()\n"
     ]
    }
   ],
   "source": [
    "df['Date'] = pd.to_datetime(df['Date'])\n",
    "df.set_index('Date', inplace=True)\n",
    "monthly_sales = df.resample('M').sum()\n",
    "print(\"Monthly Sales:\\n\", monthly_sales)"
   ]
  },
  {
   "cell_type": "markdown",
   "id": "8e7d3905-237b-4610-b2e7-bded3cfbc673",
   "metadata": {},
   "source": [
    "# Create a graph – Which Region had the highest sales?"
   ]
  },
  {
   "cell_type": "code",
   "execution_count": 12,
   "id": "327ac072-8f62-4d62-85fb-cbba002179af",
   "metadata": {},
   "outputs": [
    {
     "data": {
      "image/png": "[encoded data removed]",
      "text/plain": [
       "<Figure size 640x480 with 1 Axes>"
      ]
     },
     "metadata": {},
     "output_type": "display_data"
    }
   ],
   "source": [
    "region_sales.plot(kind='bar', title='Revenue by Region', color='skyblue')\n",
    "plt.ylabel(\"Total Revenue\")\n",
    "plt.show()"
   ]
  }
 ],
 "metadata": {
  "kernelspec": {
   "display_name": "Python 3 (ipykernel)",
   "language": "python",
   "name": "python3"
  },
  "language_info": {
   "codemirror_mode": {
    "name": "ipython",
    "version": 3
   },
   "file_extension": ".py",
   "mimetype": "text/x-python",
   "name": "python",
   "nbconvert_exporter": "python",
   "pygments_lexer": "ipython3",
   "version": "3.12.7"
  }
 },
 "nbformat": 4,
 "nbformat_minor": 5
}
